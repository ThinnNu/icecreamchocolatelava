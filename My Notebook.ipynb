{
  "metadata": {
    "language_info": {
      "codemirror_mode": {
        "name": "python",
        "version": 3
      },
      "file_extension": ".py",
      "mimetype": "text/x-python",
      "name": "python",
      "nbconvert_exporter": "python",
      "pygments_lexer": "ipython3",
      "version": "3.8"
    },
    "kernelspec": {
      "name": "python",
      "display_name": "Python (Pyodide)",
      "language": "python"
    }
  },
  "nbformat_minor": 4,
  "nbformat": 4,
  "cells": [
    {
      "cell_type": "code",
      "source": "# Data Science Notebook",
      "metadata": {
        "trusted": true
      },
      "execution_count": 21,
      "outputs": []
    },
    {
      "cell_type": "code",
      "source": "## Introduction",
      "metadata": {
        "trusted": true
      },
      "execution_count": 22,
      "outputs": []
    },
    {
      "cell_type": "code",
      "source": "## Data Science Languages\n\n'''- Python\n- R\n- Julia\n- SQL'''",
      "metadata": {
        "trusted": true
      },
      "execution_count": 23,
      "outputs": [
        {
          "execution_count": 23,
          "output_type": "execute_result",
          "data": {
            "text/plain": "'- Python\\n- R\\n- Julia\\n- SQL'"
          },
          "metadata": {}
        }
      ]
    },
    {
      "cell_type": "code",
      "source": "## Data Science Libraries\n'''NumPy\nPandas\nMatplotlib\nSeaborn\nScikit-learn\nTensorFow\nKeras\nPyTorch'''",
      "metadata": {
        "trusted": true
      },
      "execution_count": 24,
      "outputs": [
        {
          "execution_count": 24,
          "output_type": "execute_result",
          "data": {
            "text/plain": "'NumPy\\nPandas\\nMatplotlib\\nSeaborn\\nScikit-learn\\nTensorFow\\nKeras\\nPyTorch'"
          },
          "metadata": {}
        }
      ]
    },
    {
      "cell_type": "code",
      "source": "## Data Science Tools\n\n'''| Category        | Tools                                |\n|-----------------|---------------------------------------|\n| Data Collection | Web scraping tools, APIs              |\n| Data Cleaning   | Pandas, OpenRefine, DataWrangler      |\n| Data Analysis   | NumPy, Pandas, SciPy, Jupyter         |\n| Data Modeling   | Scikit-learn, TensorFlow, PyTorch     |\n| Data Visualization | Matplotlib, Seaborn, Plotly        |'''\n",
      "metadata": {
        "trusted": true
      },
      "execution_count": 25,
      "outputs": [
        {
          "execution_count": 25,
          "output_type": "execute_result",
          "data": {
            "text/plain": "'| Category        | Tools                                |\\n|-----------------|---------------------------------------|\\n| Data Collection | Web scraping tools, APIs              |\\n| Data Cleaning   | Pandas, OpenRefine, DataWrangler      |\\n| Data Analysis   | NumPy, Pandas, SciPy, Jupyter         |\\n| Data Modeling   | Scikit-learn, TensorFlow, PyTorch     |\\n| Data Visualization | Matplotlib, Seaborn, Plotly        |'"
          },
          "metadata": {}
        }
      ]
    },
    {
      "cell_type": "code",
      "source": "## Arithmetic Expression Examples",
      "metadata": {
        "trusted": true
      },
      "execution_count": 26,
      "outputs": []
    },
    {
      "cell_type": "code",
      "source": "## Multiply and Add Numbers\nx = 5\ny = 3\nmultiply_result = x*y\nadd_reslut = x+y",
      "metadata": {
        "trusted": true
      },
      "execution_count": 27,
      "outputs": []
    },
    {
      "cell_type": "code",
      "source": "# Convert Mins to Hours\nminutes = 120\nhours = minutes/604\nhours",
      "metadata": {
        "trusted": true
      },
      "execution_count": 28,
      "outputs": [
        {
          "execution_count": 28,
          "output_type": "execute_result",
          "data": {
            "text/plain": "0.1986754966887417"
          },
          "metadata": {}
        }
      ]
    },
    {
      "cell_type": "code",
      "source": "## Objectices\n\n'''Explore various data science languages and libraries\nUnderstand common data science tools and their functionalities\nPerform basic arithmetic operations using programming languages'''\n",
      "metadata": {
        "trusted": true
      },
      "execution_count": 29,
      "outputs": [
        {
          "execution_count": 29,
          "output_type": "execute_result",
          "data": {
            "text/plain": "'Explore various data science languages and libraries\\nUnderstand common data science tools and their functionalities\\nPerform basic arithmetic operations using programming languages'"
          },
          "metadata": {}
        }
      ]
    },
    {
      "cell_type": "code",
      "source": "## Authoer\n'Thinn Nu'",
      "metadata": {
        "trusted": true
      },
      "execution_count": 30,
      "outputs": [
        {
          "execution_count": 30,
          "output_type": "execute_result",
          "data": {
            "text/plain": "'Thinn Nu'"
          },
          "metadata": {}
        }
      ]
    }
  ]
}